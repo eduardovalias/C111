{
 "cells": [
  {
   "cell_type": "markdown",
   "metadata": {},
   "source": [
    "1. Apresente a porcentagem de missões que deram certo"
   ]
  },
  {
   "cell_type": "code",
   "execution_count": 27,
   "metadata": {},
   "outputs": [
    {
     "name": "stdout",
     "output_type": "stream",
     "text": [
      "89.71% dos lançamentos foram bem sucedidos.\n"
     ]
    }
   ],
   "source": [
    "import numpy as np\n",
    "\n",
    "dataset = np.loadtxt('space.csv', delimiter=';', dtype=str, encoding='utf-8')\n",
    "\n",
    "cond = dataset[1:, 7] == 'Success'\n",
    "\n",
    "total = dataset[1:, 7].size\n",
    "sucessos = dataset[1:, 7][cond].size\n",
    "\n",
    "print(f'{sucessos/total*100:.2f}% dos lançamentos foram bem sucedidos.')"
   ]
  },
  {
   "cell_type": "markdown",
   "metadata": {},
   "source": [
    "2. Qual a média de gastos de uma missão espacial se baseando em missões que possuam valores disponíveis(>0)?"
   ]
  },
  {
   "cell_type": "code",
   "execution_count": 43,
   "metadata": {},
   "outputs": [
    {
     "name": "stdout",
     "output_type": "stream",
     "text": [
      "O custo médio dos lançamentos foi de 153.79 bilhões de dólares.\n"
     ]
    }
   ],
   "source": [
    "cond2 = dataset[1:, 6] != '0'\n",
    "\n",
    "custototal = dataset[1:, 6][cond2].astype(float).sum()\n",
    "media = custototal / dataset[1:, 6][cond2].size\n",
    "\n",
    "print(f'O custo médio dos lançamentos foi de {media:.2f} bilhões de dólares.')"
   ]
  },
  {
   "cell_type": "markdown",
   "metadata": {},
   "source": [
    "3. Encontre quantas missões espaciais neste Dataset foram realizadas pelos Estados Unidos(EUA)"
   ]
  },
  {
   "cell_type": "code",
   "execution_count": 48,
   "metadata": {},
   "outputs": [
    {
     "name": "stdout",
     "output_type": "stream",
     "text": [
      "1344 lançamentos foram feitos pelos Estados Unidos.\n"
     ]
    }
   ],
   "source": [
    "cond3 = np.char.find(dataset[1:, 2], 'USA')\n",
    "\n",
    "print(f'{dataset[1:, 2][cond3 != -1].size} lançamentos foram feitos pelos Estados Unidos.')"
   ]
  },
  {
   "cell_type": "markdown",
   "metadata": {},
   "source": [
    "4. Encontre qual foi a missão mais cara realizada pela empresa \"SpaceX\""
   ]
  },
  {
   "cell_type": "code",
   "execution_count": 54,
   "metadata": {},
   "outputs": [
    {
     "name": "stdout",
     "output_type": "stream",
     "text": [
      "A missão mais cara da SpaceX custou 90.0 bilhões de dólares.\n"
     ]
    }
   ],
   "source": [
    "cond4 = dataset[1:, 1] == 'SpaceX'\n",
    "print(f'A missão mais cara da SpaceX custou {dataset[1:, 6][cond4].astype(float).max()} bilhões de dólares.')"
   ]
  },
  {
   "cell_type": "markdown",
   "metadata": {},
   "source": [
    "5. Mostre o nome das empresas que já realizaram missões espaciais, juntamente com suas respectivas quantidades de missões (use o for no final para mostrar as informações)"
   ]
  },
  {
   "cell_type": "code",
   "execution_count": 60,
   "metadata": {},
   "outputs": [
    {
     "name": "stdout",
     "output_type": "stream",
     "text": [
      "AEB teve 3 missões.\n",
      "AMBA teve 8 missões.\n",
      "ASI teve 9 missões.\n",
      "Arianespace teve 279 missões.\n",
      "Arm??e de l'Air teve 4 missões.\n",
      "Blue Origin teve 12 missões.\n",
      "Boeing teve 136 missões.\n",
      "CASC teve 251 missões.\n",
      "CASIC teve 5 missões.\n",
      "CECLES teve 4 missões.\n",
      "CNES teve 8 missões.\n",
      "Douglas teve 1 missões.\n",
      "EER teve 1 missões.\n",
      "ESA teve 13 missões.\n",
      "Eurockot teve 13 missões.\n",
      "ExPace teve 10 missões.\n",
      "Exos teve 4 missões.\n",
      "General Dynamics teve 251 missões.\n",
      "IAI teve 11 missões.\n",
      "ILS teve 46 missões.\n",
      "IRGC teve 1 missões.\n",
      "ISA teve 13 missões.\n",
      "ISAS teve 30 missões.\n",
      "ISRO teve 76 missões.\n",
      "JAXA teve 7 missões.\n",
      "KARI teve 3 missões.\n",
      "KCST teve 5 missões.\n",
      "Khrunichev teve 1 missões.\n",
      "Kosmotras teve 22 missões.\n",
      "Land Launch teve 7 missões.\n",
      "Landspace teve 1 missões.\n",
      "Lockheed teve 79 missões.\n",
      "MHI teve 84 missões.\n",
      "MITT teve 7 missões.\n",
      "Martin Marietta teve 114 missões.\n",
      "NASA teve 203 missões.\n",
      "Northrop teve 83 missões.\n",
      "OKB-586 teve 2 missões.\n",
      "OneSpace teve 1 missões.\n",
      "RAE teve 2 missões.\n",
      "RVSN USSR teve 1777 missões.\n",
      "Rocket Lab teve 13 missões.\n",
      "Roscosmos teve 55 missões.\n",
      "SRC teve 3 missões.\n",
      "Sandia teve 1 missões.\n",
      "Sea Launch teve 36 missões.\n",
      "SpaceX teve 100 missões.\n",
      "Starsem teve 1 missões.\n",
      "ULA teve 140 missões.\n",
      "US Air Force teve 161 missões.\n",
      "US Navy teve 17 missões.\n",
      "UT teve 5 missões.\n",
      "VKS RF teve 201 missões.\n",
      "Virgin Orbit teve 1 missões.\n",
      "Yuzhmash teve 2 missões.\n",
      "i-Space teve 1 missões.\n"
     ]
    }
   ],
   "source": [
    "empresas = np.unique(dataset[1:, 1])\n",
    "for empresa in empresas:\n",
    "    cond5 = dataset[1:, 1] == empresa\n",
    "    print(f'{empresa} teve {dataset[1:, 1][cond5].size} missões.')"
   ]
  }
 ],
 "metadata": {
  "kernelspec": {
   "display_name": "Python 3",
   "language": "python",
   "name": "python3"
  },
  "language_info": {
   "codemirror_mode": {
    "name": "ipython",
    "version": 3
   },
   "file_extension": ".py",
   "mimetype": "text/x-python",
   "name": "python",
   "nbconvert_exporter": "python",
   "pygments_lexer": "ipython3",
   "version": "3.13.0"
  }
 },
 "nbformat": 4,
 "nbformat_minor": 2
}
