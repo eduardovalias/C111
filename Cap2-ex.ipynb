{
 "cells": [
  {
   "cell_type": "markdown",
   "metadata": {},
   "source": [
    "1. Crie um programa que leia seu nome completo e mostre:"
   ]
  },
  {
   "cell_type": "markdown",
   "metadata": {},
   "source": [
    ". Seu nome com todas as letras maiúsculas"
   ]
  },
  {
   "cell_type": "code",
   "execution_count": 2,
   "metadata": {},
   "outputs": [
    {
     "name": "stdout",
     "output_type": "stream",
     "text": [
      "EDUARDO PEREIRA VALIAS\n"
     ]
    }
   ],
   "source": [
    "nome = input('Digite seu nome completo')\n",
    "print(nome.upper())"
   ]
  },
  {
   "cell_type": "markdown",
   "metadata": {},
   "source": [
    ". Seu nome com todas as letras minúsculas"
   ]
  },
  {
   "cell_type": "code",
   "execution_count": 3,
   "metadata": {},
   "outputs": [
    {
     "name": "stdout",
     "output_type": "stream",
     "text": [
      "eduardo pereira valias\n"
     ]
    }
   ],
   "source": [
    "print(nome.lower())"
   ]
  },
  {
   "cell_type": "markdown",
   "metadata": {},
   "source": [
    ". Quantas letras tem seu nome"
   ]
  },
  {
   "cell_type": "code",
   "execution_count": 4,
   "metadata": {},
   "outputs": [
    {
     "name": "stdout",
     "output_type": "stream",
     "text": [
      "20\n"
     ]
    }
   ],
   "source": [
    "print(len(nome.replace(' ', '')))"
   ]
  },
  {
   "cell_type": "markdown",
   "metadata": {},
   "source": [
    ". Como seria se trocássemos seu último nome para \"do Inatel\""
   ]
  },
  {
   "cell_type": "code",
   "execution_count": 5,
   "metadata": {},
   "outputs": [
    {
     "name": "stdout",
     "output_type": "stream",
     "text": [
      "Eduardo Pereira do Inatel\n"
     ]
    }
   ],
   "source": [
    "nomeSplit = nome.split()\n",
    "ultimoNome = nomeSplit[len(nomeSplit) - 1]\n",
    "ultimoNome = ultimoNome.replace(ultimoNome, 'do Inatel')\n",
    "nomeSplit[len(nomeSplit) - 1] = ultimoNome\n",
    "nome = ' '.join(nomeSplit)\n",
    "print(nome)"
   ]
  },
  {
   "cell_type": "markdown",
   "metadata": {},
   "source": [
    "2. Mostre a tabuada de um número que o usuário escolher dentro de um intervalo específico também escolhido por ele."
   ]
  },
  {
   "cell_type": "code",
   "execution_count": 8,
   "metadata": {},
   "outputs": [
    {
     "name": "stdout",
     "output_type": "stream",
     "text": [
      "5\n",
      "10\n",
      "15\n",
      "20\n",
      "25\n",
      "30\n",
      "35\n",
      "40\n",
      "45\n",
      "50\n"
     ]
    }
   ],
   "source": [
    "numero = int(input('Digite um número'))\n",
    "p = int(input('Digite o primeiro número do intervalo'))\n",
    "s = int(input('Digite o segundo número do intervalo'))\n",
    "\n",
    "while p <= s:\n",
    "    print(numero * p)\n",
    "    p += 1"
   ]
  },
  {
   "cell_type": "markdown",
   "metadata": {},
   "source": [
    "3. Faça um programa que leia o sexo de uma pessoa e diga se ela é homem (caso seja digitado M) ou mulher (caso seja digitado F). Caso seja digitado algo inválido, continue perguntando até que o usuário entre com um sexo válido."
   ]
  },
  {
   "cell_type": "code",
   "execution_count": 9,
   "metadata": {},
   "outputs": [
    {
     "name": "stdout",
     "output_type": "stream",
     "text": [
      "Masculino\n"
     ]
    }
   ],
   "source": [
    "genero = input('Digite seu gênero (M ou F)').upper()\n",
    "while genero != 'M' and genero != 'F':\n",
    "    genero = input('Digite seu gênero (M ou F)').upper()\n",
    "if genero == 'M':\n",
    "    print('Masculino')\n",
    "else:\n",
    "    print('Feminino')"
   ]
  },
  {
   "cell_type": "markdown",
   "metadata": {},
   "source": [
    "4. Desenvolva um script que pergunte a distância de uma viagem em Km. Calcule o preço da passagem, cobrando R$0.50 por Km para viagens até 200Km e R$0.45 para viagens mais longas."
   ]
  },
  {
   "cell_type": "code",
   "execution_count": 13,
   "metadata": {},
   "outputs": [
    {
     "name": "stdout",
     "output_type": "stream",
     "text": [
      "O valor da passagem é de R$ 90.45\n"
     ]
    }
   ],
   "source": [
    "distancia = float(input('Digite a distância percorrida em Km'))\n",
    "if distancia <= 200:\n",
    "    print('O valor da passagem é de R$', distancia * 0.5)\n",
    "else:\n",
    "    print('O valor da passagem é de R$', distancia * 0.45)"
   ]
  },
  {
   "cell_type": "markdown",
   "metadata": {},
   "source": [
    "5. Faça um programa que leia um número entre 1000 e 9999 e mostre na tela"
   ]
  },
  {
   "cell_type": "markdown",
   "metadata": {},
   "source": [
    ". Qual o número da unidade"
   ]
  },
  {
   "cell_type": "code",
   "execution_count": 16,
   "metadata": {},
   "outputs": [
    {
     "name": "stdout",
     "output_type": "stream",
     "text": [
      "4\n"
     ]
    }
   ],
   "source": [
    "num = input('Digite um número entre 1000 e 9999')\n",
    "print(num[3])"
   ]
  },
  {
   "cell_type": "markdown",
   "metadata": {},
   "source": [
    ". Número da dezena"
   ]
  },
  {
   "cell_type": "code",
   "execution_count": 17,
   "metadata": {},
   "outputs": [
    {
     "name": "stdout",
     "output_type": "stream",
     "text": [
      "2\n"
     ]
    }
   ],
   "source": [
    "print(num[2])"
   ]
  },
  {
   "cell_type": "markdown",
   "metadata": {},
   "source": [
    ". Número da centena"
   ]
  },
  {
   "cell_type": "code",
   "execution_count": 18,
   "metadata": {},
   "outputs": [
    {
     "name": "stdout",
     "output_type": "stream",
     "text": [
      "5\n"
     ]
    }
   ],
   "source": [
    "print(num[1])"
   ]
  },
  {
   "cell_type": "markdown",
   "metadata": {},
   "source": [
    ". Número do milhar"
   ]
  },
  {
   "cell_type": "code",
   "execution_count": 19,
   "metadata": {},
   "outputs": [
    {
     "name": "stdout",
     "output_type": "stream",
     "text": [
      "3\n"
     ]
    }
   ],
   "source": [
    "print(num[0])"
   ]
  },
  {
   "cell_type": "markdown",
   "metadata": {},
   "source": [
    "6. Peça ao usuário para entrar com um número decimal. Em seguida, aplique e mostre o resultado:"
   ]
  },
  {
   "cell_type": "markdown",
   "metadata": {},
   "source": [
    ". Da raiz quadrada deste número"
   ]
  },
  {
   "cell_type": "code",
   "execution_count": 20,
   "metadata": {},
   "outputs": [
    {
     "name": "stdout",
     "output_type": "stream",
     "text": [
      "1.8973665961010275\n"
     ]
    }
   ],
   "source": [
    "import math\n",
    "numDec = float(input('Digite um número decimal'))\n",
    "print(math.sqrt(numDec))"
   ]
  },
  {
   "cell_type": "markdown",
   "metadata": {},
   "source": [
    ". Função teto"
   ]
  },
  {
   "cell_type": "code",
   "execution_count": 21,
   "metadata": {},
   "outputs": [
    {
     "name": "stdout",
     "output_type": "stream",
     "text": [
      "4\n"
     ]
    }
   ],
   "source": [
    "print(math.ceil(numDec))"
   ]
  },
  {
   "cell_type": "markdown",
   "metadata": {},
   "source": [
    ". Função chão"
   ]
  },
  {
   "cell_type": "code",
   "execution_count": 22,
   "metadata": {},
   "outputs": [
    {
     "name": "stdout",
     "output_type": "stream",
     "text": [
      "3\n"
     ]
    }
   ],
   "source": [
    "print(math.floor(numDec))"
   ]
  },
  {
   "cell_type": "markdown",
   "metadata": {},
   "source": [
    ". Sua parte inteira"
   ]
  },
  {
   "cell_type": "code",
   "execution_count": 23,
   "metadata": {},
   "outputs": [
    {
     "name": "stdout",
     "output_type": "stream",
     "text": [
      "3\n"
     ]
    }
   ],
   "source": [
    "print(math.trunc(numDec))"
   ]
  }
 ],
 "metadata": {
  "kernelspec": {
   "display_name": "Python 3",
   "language": "python",
   "name": "python3"
  },
  "language_info": {
   "codemirror_mode": {
    "name": "ipython",
    "version": 3
   },
   "file_extension": ".py",
   "mimetype": "text/x-python",
   "name": "python",
   "nbconvert_exporter": "python",
   "pygments_lexer": "ipython3",
   "version": "3.13.0"
  }
 },
 "nbformat": 4,
 "nbformat_minor": 2
}
