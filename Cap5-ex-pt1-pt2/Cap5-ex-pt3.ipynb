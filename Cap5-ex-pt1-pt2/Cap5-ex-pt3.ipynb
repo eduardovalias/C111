{
 "cells": [
  {
   "cell_type": "markdown",
   "metadata": {},
   "source": [
    "1. Carregue o Dataset paises.csv e em seguida mostre:"
   ]
  },
  {
   "cell_type": "markdown",
   "metadata": {},
   "source": [
    "a.Quais são os países da OCEANIA;"
   ]
  },
  {
   "cell_type": "code",
   "execution_count": 3,
   "metadata": {},
   "outputs": [
    {
     "name": "stdout",
     "output_type": "stream",
     "text": [
      "Países da Oceania:\n",
      "3            American Samoa \n",
      "11                Australia \n",
      "47             Cook Islands \n",
      "67                     Fiji \n",
      "71         French Polynesia \n",
      "83                     Guam \n",
      "108                Kiribati \n",
      "130        Marshall Islands \n",
      "136    Micronesia, Fed. St. \n",
      "144                   Nauru \n",
      "148           New Caledonia \n",
      "149             New Zealand \n",
      "153      N. Mariana Islands \n",
      "157                   Palau \n",
      "159        Papua New Guinea \n",
      "176                   Samoa \n",
      "187         Solomon Islands \n",
      "203                   Tonga \n",
      "209                  Tuvalu \n",
      "217                 Vanuatu \n",
      "221       Wallis and Futuna \n",
      "Name: Country, dtype: object\n"
     ]
    }
   ],
   "source": [
    "import pandas as pd\n",
    "\n",
    "df = pd.read_csv('paises.csv', delimiter=';')\n",
    "\n",
    "df_oceania = df[df['Region'].str.contains('OCEANIA', case=False, na=False)]\n",
    "\n",
    "print('Países da Oceania:')\n",
    "print(df_oceania['Country'])"
   ]
  },
  {
   "cell_type": "markdown",
   "metadata": {},
   "source": [
    "b.Quantos países são da OCEANIA;"
   ]
  },
  {
   "cell_type": "code",
   "execution_count": 4,
   "metadata": {},
   "outputs": [
    {
     "name": "stdout",
     "output_type": "stream",
     "text": [
      "\n",
      "Quantidade de países da Oceania: 21\n"
     ]
    }
   ],
   "source": [
    "print('\\nQuantidade de países da Oceania:', len(df_oceania))"
   ]
  },
  {
   "cell_type": "markdown",
   "metadata": {},
   "source": [
    "2. Encontre o nome e a região do país que possui a maior população segundo este Dataset;"
   ]
  },
  {
   "cell_type": "code",
   "execution_count": 5,
   "metadata": {},
   "outputs": [
    {
     "name": "stdout",
     "output_type": "stream",
     "text": [
      "País com a maior população: China \n",
      "Região: ASIA (EX. NEAR EAST)         \n"
     ]
    }
   ],
   "source": [
    "indice_maior_pop = df['Population'].idxmax()\n",
    "\n",
    "pais_maior_pop = df.loc[indice_maior_pop, 'Country']\n",
    "regiao_maior_pop = df.loc[indice_maior_pop, 'Region']\n",
    "\n",
    "print(\"País com a maior população:\", pais_maior_pop)\n",
    "print(\"Região:\", regiao_maior_pop)"
   ]
  },
  {
   "cell_type": "markdown",
   "metadata": {},
   "source": [
    "3. Agrupe os países por Regiões. Em seguida, mostre a média de alfabetização (Literacy (%)) de cada região do planeta;"
   ]
  },
  {
   "cell_type": "code",
   "execution_count": 6,
   "metadata": {},
   "outputs": [
    {
     "name": "stdout",
     "output_type": "stream",
     "text": [
      "Média de alfabetização por região:\n",
      "Region\n",
      "ASIA (EX. NEAR EAST)                   79.553571\n",
      "BALTICS                                99.733333\n",
      "C.W. OF IND. STATES                    98.725000\n",
      "EASTERN EUROPE                         72.816667\n",
      "LATIN AMER. & CARIB                    88.640000\n",
      "NEAR EAST                              69.581250\n",
      "NORTHERN AFRICA                        56.033333\n",
      "NORTHERN AMERICA                       78.200000\n",
      "OCEANIA                                71.914286\n",
      "SUB-SAHARAN AFRICA                     61.284314\n",
      "WESTERN EUROPE                         80.821429\n",
      "Name: Literacy (%), dtype: float64\n"
     ]
    }
   ],
   "source": [
    "media_alfabetizacao = df.groupby('Region')['Literacy (%)'].mean()\n",
    "\n",
    "print(\"Média de alfabetização por região:\")\n",
    "print(media_alfabetizacao)"
   ]
  },
  {
   "cell_type": "markdown",
   "metadata": {},
   "source": [
    "4. Busque o nome de todos os países do Dataset que não possuem costa marítima (Coastline (coast/area ratio) == 0) e guarde-os em um novo arquivo chamado noCoast.csv;"
   ]
  },
  {
   "cell_type": "code",
   "execution_count": 7,
   "metadata": {},
   "outputs": [
    {
     "name": "stdout",
     "output_type": "stream",
     "text": [
      "Países sem costa marítima:\n",
      "                   Country\n",
      "0             Afghanistan \n",
      "4                 Andorra \n",
      "9                 Armenia \n",
      "12                Austria \n",
      "13             Azerbaijan \n",
      "18                Belarus \n",
      "23                 Bhutan \n",
      "24                Bolivia \n",
      "26               Botswana \n",
      "31           Burkina Faso \n",
      "33                Burundi \n",
      "39   Central African Rep. \n",
      "40                   Chad \n",
      "45       Congo, Dem. Rep. \n",
      "53         Czech Republic \n",
      "65               Ethiopia \n",
      "92                Hungary \n",
      "106            Kazakhstan \n",
      "112            Kyrgyzstan \n",
      "113                  Laos \n",
      "116               Lesotho \n",
      "119         Liechtenstein \n",
      "121            Luxembourg \n",
      "123             Macedonia \n",
      "125                Malawi \n",
      "128                  Mali \n",
      "137               Moldova \n",
      "139              Mongolia \n",
      "145                 Nepal \n",
      "151                 Niger \n",
      "160              Paraguay \n",
      "170                Rwanda \n",
      "177            San Marino \n",
      "181                Serbia \n",
      "185              Slovakia \n",
      "194             Swaziland \n",
      "196           Switzerland \n",
      "199            Tajikistan \n",
      "207          Turkmenistan \n",
      "210                Uganda \n",
      "216            Uzbekistan \n",
      "222             West Bank \n",
      "225                Zambia \n",
      "226              Zimbabwe \n"
     ]
    }
   ],
   "source": [
    "df_no_coast = df[df['Coastline (coast/area ratio)'] == 0]\n",
    "\n",
    "nomes_no_coast = df_no_coast[['Country']]\n",
    "\n",
    "nomes_no_coast.to_csv('noCoast.csv', index=False)\n",
    "\n",
    "print(\"Países sem costa marítima:\")\n",
    "print(nomes_no_coast)"
   ]
  },
  {
   "cell_type": "markdown",
   "metadata": {},
   "source": [
    "5. Faça uma função que receba a taxa de mortalidade de cada país (Deathrate) e retorne o texto ‘Balanced’ caso o valor seja < 9 e ‘Urgent’ caso contrário. Em seguida, crie um campo no Dataset chamado ‘Humanitarian Help’ que receba estes valores para cada país. No final, mostre o Dataset para verificar se a inserção da nova coluna foi feita com sucesso.\n"
   ]
  },
  {
   "cell_type": "code",
   "execution_count": 8,
   "metadata": {},
   "outputs": [
    {
     "name": "stdout",
     "output_type": "stream",
     "text": [
      "           Country                               Region  Population  \\\n",
      "0     Afghanistan         ASIA (EX. NEAR EAST)             31056997   \n",
      "1         Albania   EASTERN EUROPE                          3581655   \n",
      "2         Algeria   NORTHERN AFRICA                        32930091   \n",
      "3  American Samoa   OCEANIA                                   57794   \n",
      "4         Andorra   WESTERN EUROPE                            71201   \n",
      "\n",
      "   Area (sq. mi.)  Pop. Density (per sq. mi.)  Coastline (coast/area ratio)  \\\n",
      "0          647500                        48.0                          0.00   \n",
      "1           28748                       124.6                          1.26   \n",
      "2         2381740                        13.8                          0.04   \n",
      "3             199                       290.4                         58.29   \n",
      "4             468                       152.1                          0.00   \n",
      "\n",
      "   Net migration  Infant mortality (per 1000 births)  GDP ($ per capita)  \\\n",
      "0          23.06                              163.07                 700   \n",
      "1          -4.93                               21.52                4500   \n",
      "2          -0.39                               31.00                6000   \n",
      "3         -20.71                                9.27                8000   \n",
      "4           6.60                                4.05               19000   \n",
      "\n",
      "   Literacy (%)  ...  Arable (%)  Crops (%)  Other (%)  Climate  Birthrate  \\\n",
      "0          36.0  ...       12.13       0.22      87.65      1.0      46.60   \n",
      "1          86.5  ...       21.09       4.42      74.49      3.0      15.11   \n",
      "2          70.0  ...        3.22       0.25      96.53      1.0      17.14   \n",
      "3          97.0  ...       10.00      15.00      75.00      2.0      22.46   \n",
      "4         100.0  ...        2.22       0.00      97.78      3.0       8.71   \n",
      "\n",
      "   Deathrate  Agriculture  Industry  Service  Humanitarian Help  \n",
      "0      20.34        0.380     0.240    0.380             Urgent  \n",
      "1       5.22        0.232     0.188    0.579           Balanced  \n",
      "2       4.61        0.101     0.600    0.298           Balanced  \n",
      "3       3.27        0.000     0.000    0.000           Balanced  \n",
      "4       6.25        0.000     0.000    0.000           Balanced  \n",
      "\n",
      "[5 rows x 21 columns]\n"
     ]
    }
   ],
   "source": [
    "def classify_deathrate(rate):\n",
    "    if rate < 9:\n",
    "        return 'Balanced'\n",
    "    else:\n",
    "        return 'Urgent'\n",
    "    \n",
    "df['Humanitarian Help'] = df['Deathrate'].apply(classify_deathrate)\n",
    "\n",
    "print(df.head())"
   ]
  }
 ],
 "metadata": {
  "kernelspec": {
   "display_name": "Python 3",
   "language": "python",
   "name": "python3"
  },
  "language_info": {
   "codemirror_mode": {
    "name": "ipython",
    "version": 3
   },
   "file_extension": ".py",
   "mimetype": "text/x-python",
   "name": "python",
   "nbconvert_exporter": "python",
   "pygments_lexer": "ipython3",
   "version": "3.13.0"
  }
 },
 "nbformat": 4,
 "nbformat_minor": 2
}
