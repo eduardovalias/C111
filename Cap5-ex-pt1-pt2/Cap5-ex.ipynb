{
 "cells": [
  {
   "cell_type": "markdown",
   "metadata": {},
   "source": [
    "1. Crie duas Series com os seguintes valores:\n",
    "\n",
    ". seriesAno1: {‘Java’: 16.25, ‘C’: 16.04, ‘Python’: 9.85}\n",
    "\n",
    ". seriesAno2: {‘C’: 16.21, ‘Python’: 12.12, ‘Java’: 11.68}"
   ]
  },
  {
   "cell_type": "code",
   "execution_count": 7,
   "metadata": {},
   "outputs": [],
   "source": [
    "import pandas as pd\n",
    "\n",
    "seriesAno1 = pd.Series({'Java': 16.25, 'C': 16.04, 'Python': 9.85})\n",
    "seriesAno2 = pd.Series({'C': 16.21, 'Python': 12.12, 'Java': 11.68})\n"
   ]
  },
  {
   "cell_type": "markdown",
   "metadata": {},
   "source": [
    "2. Os valores das Series criadas na Questão 1 representam as fatias de mercado (porcentagem) de 3 linguagens de programação populares em dois anos consecutivos. Para cada ano, apresente a porcentagem total que elas juntas representam no mercado;"
   ]
  },
  {
   "cell_type": "code",
   "execution_count": 8,
   "metadata": {},
   "outputs": [
    {
     "name": "stdout",
     "output_type": "stream",
     "text": [
      "Total Ano 1: 42.14\n",
      "Total Ano 2: 40.01\n"
     ]
    }
   ],
   "source": [
    "totalAno1 = seriesAno1.sum()\n",
    "totalAno2 = seriesAno2.sum()\n",
    "\n",
    "print(\"Total Ano 1:\", totalAno1)\n",
    "print(\"Total Ano 2:\", totalAno2)"
   ]
  },
  {
   "cell_type": "markdown",
   "metadata": {},
   "source": [
    "3. Apresente o crescimento/declínio no mercado de cada linguagem do primeiro ano para o segundo ano;"
   ]
  },
  {
   "cell_type": "code",
   "execution_count": 9,
   "metadata": {},
   "outputs": [
    {
     "name": "stdout",
     "output_type": "stream",
     "text": [
      "C         0.17\n",
      "Java     -4.57\n",
      "Python    2.27\n",
      "dtype: float64\n"
     ]
    }
   ],
   "source": [
    "diferenca = seriesAno2 - seriesAno1\n",
    "print(diferenca)"
   ]
  },
  {
   "cell_type": "markdown",
   "metadata": {},
   "source": [
    "4. Baseado nos resultados da Questão 3, mostre apenas os dados das linguagens que tiveram crescimento;"
   ]
  },
  {
   "cell_type": "code",
   "execution_count": 12,
   "metadata": {},
   "outputs": [
    {
     "name": "stdout",
     "output_type": "stream",
     "text": [
      "C         0.17\n",
      "Python    2.27\n",
      "dtype: float64\n"
     ]
    }
   ],
   "source": [
    "print(diferenca[diferenca > 0])"
   ]
  },
  {
   "cell_type": "markdown",
   "metadata": {},
   "source": [
    "5. Se estas porcentagens de crescimento/declínio se mantivessem iguais para os próximos 2 anos, qual seria a linguagem mais popular? Dica: use o método nlargest(1) no final para retornar rapidamente a label e maior valor de uma Series."
   ]
  },
  {
   "cell_type": "code",
   "execution_count": 13,
   "metadata": {},
   "outputs": [
    {
     "name": "stdout",
     "output_type": "stream",
     "text": [
      "Python    16.66\n",
      "dtype: float64\n"
     ]
    }
   ],
   "source": [
    "seriesAno4 = seriesAno2 + 2 * diferenca\n",
    "\n",
    "mais_popular = seriesAno4.nlargest(1)\n",
    "print(mais_popular)"
   ]
  },
  {
   "cell_type": "markdown",
   "metadata": {},
   "source": [
    "6. Utilizando do DataFrame exemplo do tópico 5.3 deste material, calcule a média dos elementos da coluna X que são menores que 30;"
   ]
  },
  {
   "cell_type": "code",
   "execution_count": 14,
   "metadata": {},
   "outputs": [
    {
     "name": "stdout",
     "output_type": "stream",
     "text": [
      "\n",
      "Média dos elementos da coluna 'X' menores que 30: 17.5\n"
     ]
    }
   ],
   "source": [
    "import numpy as np\n",
    "\n",
    "np.random.seed(10)\n",
    "\n",
    "df = pd.DataFrame(\n",
    "    index=['A', 'B', 'C', 'D', 'E'],\n",
    "    columns=['W', 'X', 'Y', 'Z'],\n",
    "    data=np.random.randint(1, 50, [5, 4])\n",
    ")\n",
    "\n",
    "media_X = df.loc[df['X'] < 30, 'X'].mean()\n",
    "print(\"\\nMédia dos elementos da coluna 'X' menores que 30:\", media_X)\n"
   ]
  },
  {
   "cell_type": "markdown",
   "metadata": {},
   "source": [
    "7. Utilizando do mesmo DataFrame, apresente a média dos elementos da linha D usando a função loc() como base e a soma dos elementos da linha E usando a função iloc() como base;"
   ]
  },
  {
   "cell_type": "code",
   "execution_count": 15,
   "metadata": {},
   "outputs": [
    {
     "name": "stdout",
     "output_type": "stream",
     "text": [
      "\n",
      "Média dos elementos da linha D (loc): 34.5\n",
      "Soma dos elementos da linha E (iloc): 122\n"
     ]
    }
   ],
   "source": [
    "# Média dos elementos da linha D usando loc()\n",
    "media_linha_D = df.loc['D'].mean()\n",
    "\n",
    "# Soma dos elementos da linha E usando iloc() \n",
    "soma_linha_E = df.iloc[4].sum()\n",
    "\n",
    "print(\"\\nMédia dos elementos da linha D (loc):\", media_linha_D)\n",
    "print(\"Soma dos elementos da linha E (iloc):\", soma_linha_E)"
   ]
  },
  {
   "cell_type": "markdown",
   "metadata": {},
   "source": [
    "8. Faça um Slicing na matriz mostrando apenas as linhas A, C e E juntamente com as colunas X e Y. Em seguida, mostre qual seria a soma dos elementos de cada uma destas linhas e cada uma destas colunas."
   ]
  },
  {
   "cell_type": "code",
   "execution_count": 16,
   "metadata": {},
   "outputs": [
    {
     "name": "stdout",
     "output_type": "stream",
     "text": [
      "\n",
      "Sliced DataFrame (linhas A, C, E; colunas X, Y):\n",
      "    X   Y\n",
      "A  37  16\n",
      "C   9  10\n",
      "E  48  12\n",
      "\n",
      "Soma dos elementos de cada linha:\n",
      "A    53\n",
      "C    19\n",
      "E    60\n",
      "dtype: int64\n",
      "\n",
      "Soma dos elementos de cada coluna:\n",
      "X    94\n",
      "Y    38\n",
      "dtype: int64\n"
     ]
    }
   ],
   "source": [
    "# Fazendo o slicing para as linhas A, C e E e as colunas X e Y\n",
    "sliced_df = df.loc[['A', 'C', 'E'], ['X', 'Y']]\n",
    "print(\"\\nSliced DataFrame (linhas A, C, E; colunas X, Y):\")\n",
    "print(sliced_df)\n",
    "\n",
    "# Soma dos elementos de cada uma das linhas do slicing\n",
    "soma_linhas = sliced_df.sum(axis=1)\n",
    "print(\"\\nSoma dos elementos de cada linha:\")\n",
    "print(soma_linhas)\n",
    "\n",
    "# Soma dos elementos de cada uma das colunas do slicing\n",
    "soma_colunas = sliced_df.sum(axis=0)\n",
    "print(\"\\nSoma dos elementos de cada coluna:\")\n",
    "print(soma_colunas)"
   ]
  }
 ],
 "metadata": {
  "kernelspec": {
   "display_name": "Python 3",
   "language": "python",
   "name": "python3"
  },
  "language_info": {
   "codemirror_mode": {
    "name": "ipython",
    "version": 3
   },
   "file_extension": ".py",
   "mimetype": "text/x-python",
   "name": "python",
   "nbconvert_exporter": "python",
   "pygments_lexer": "ipython3",
   "version": "3.13.0"
  }
 },
 "nbformat": 4,
 "nbformat_minor": 2
}
