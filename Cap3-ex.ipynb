{
 "cells": [
  {
   "cell_type": "markdown",
   "metadata": {},
   "source": [
    "1. Crie uma lista preenchida com os 5 primeiros colocados de um Campeonato de Futebol, na ordem de colocação. Depois mostre:"
   ]
  },
  {
   "cell_type": "markdown",
   "metadata": {},
   "source": [
    "a. Apenas os 3 primeiros colocados."
   ]
  },
  {
   "cell_type": "code",
   "execution_count": 4,
   "metadata": {},
   "outputs": [
    {
     "name": "stdout",
     "output_type": "stream",
     "text": [
      "Top 3:  ['Atlético Mineiro', 'Real Madrid', 'Barcelona']\n"
     ]
    }
   ],
   "source": [
    "times = [\"Atlético Mineiro\", \"Real Madrid\", \"Barcelona\", \"Manchester City\", \"Bayern Munich\"]\n",
    "\n",
    "print(\"Top 3: \", times[:3])"
   ]
  },
  {
   "cell_type": "markdown",
   "metadata": {},
   "source": [
    "b. Os 2 últimos colocados."
   ]
  },
  {
   "cell_type": "code",
   "execution_count": 5,
   "metadata": {},
   "outputs": [
    {
     "name": "stdout",
     "output_type": "stream",
     "text": [
      "['Manchester City', 'Bayern Munich']\n"
     ]
    }
   ],
   "source": [
    "print(times[3:])"
   ]
  },
  {
   "cell_type": "markdown",
   "metadata": {},
   "source": [
    "c. Uma lista com os times em ordem alfabética."
   ]
  },
  {
   "cell_type": "code",
   "execution_count": 6,
   "metadata": {},
   "outputs": [
    {
     "name": "stdout",
     "output_type": "stream",
     "text": [
      "['Atlético Mineiro', 'Barcelona', 'Bayern Munich', 'Manchester City', 'Real Madrid']\n"
     ]
    }
   ],
   "source": [
    "print(sorted(times))"
   ]
  },
  {
   "cell_type": "markdown",
   "metadata": {},
   "source": [
    "d. Em que posição na tabela se encontra o Barcelona."
   ]
  },
  {
   "cell_type": "code",
   "execution_count": 12,
   "metadata": {},
   "outputs": [
    {
     "name": "stdout",
     "output_type": "stream",
     "text": [
      "Barcelona está na 3ª colocação no mundial\n"
     ]
    }
   ],
   "source": [
    "if \"Barcelona\" in times:\n",
    "    print(f\"Barcelona está na {times.index('Barcelona') + 1}ª colocação no mundial\")"
   ]
  },
  {
   "cell_type": "markdown",
   "metadata": {},
   "source": [
    "2. Crie dois conjuntos, um para cada loja. Identifique quais modelos de smartphones cada uma delas vendem. Em seguida, mostre quais modelos no total você terá opção de comprar se visita-las e quais modelos se encontram disponíveis em ambas as lojas;"
   ]
  },
  {
   "cell_type": "code",
   "execution_count": 15,
   "metadata": {},
   "outputs": [
    {
     "name": "stdout",
     "output_type": "stream",
     "text": [
      "Modelos no total {'iPhone 11', 'iPhone 14', 'iPhone 15', 'Galaxy S25', 'Galaxy S24', 'iPhone 16'}\n",
      "Modelos em comum {'iPhone 15', 'Galaxy S24'}\n"
     ]
    }
   ],
   "source": [
    "loja1 = {'iPhone 11', 'Galaxy S24', 'iPhone 14', 'iPhone 15'}\n",
    "loja2 = {'Galaxy S24', 'Galaxy S25', 'iPhone 15', 'iPhone 16'}\n",
    "\n",
    "print(\"Modelos no total\", loja1.union(loja2))\n",
    "print(\"Modelos em comum\", loja1.intersection(loja2))"
   ]
  },
  {
   "cell_type": "markdown",
   "metadata": {},
   "source": [
    "3. Faça um programa que leia o nome e a média de um aluno e guarde-os em um dicionário. Em seguida, a partir da média (para ser aprovado deve ter média >= 50), gere a situação final do aluno ('AP' ou 'RP'), que também deve ser guardada neste dicionário. No final, mostre todo o conteúdo deste dicionário."
   ]
  },
  {
   "cell_type": "code",
   "execution_count": 16,
   "metadata": {},
   "outputs": [
    {
     "name": "stdout",
     "output_type": "stream",
     "text": [
      "{'nome': 'Eduardo', 'media': '90', 'situacao': 'AP'}\n"
     ]
    }
   ],
   "source": [
    "nome = input(\"Digite seu nome: \")\n",
    "media = input(\"Digite sua média: \")\n",
    "\n",
    "aluno = {\n",
    "    \"nome\": nome,\n",
    "    \"media\": media\n",
    "}\n",
    "\n",
    "if float(media) >= 50:\n",
    "    aluno[\"situacao\"] = \"AP\"\n",
    "else:\n",
    "    aluno[\"situacao\"] = \"RP\"\n",
    "\n",
    "print(aluno)"
   ]
  },
  {
   "cell_type": "markdown",
   "metadata": {},
   "source": [
    "4. Faça um programa que leia o nome e peso de 3 pessoas e no final mostre o nome da pessoa mais pesada e a mais leve."
   ]
  },
  {
   "cell_type": "code",
   "execution_count": null,
   "metadata": {},
   "outputs": [
    {
     "name": "stdout",
     "output_type": "stream",
     "text": [
      "A pessoa mais pesada é Diego com 70.0kg\n",
      "A pessoa mais leve é Eduardo com 60.0kg\n"
     ]
    }
   ],
   "source": [
    "pessoas = []\n",
    "\n",
    "for i in range(3):\n",
    "    nome = input(f'Digite o nome da {i + 1}ª pessoa: ')\n",
    "    peso = float(input(f'Digite o peso da {i + 1}ª pessoa: '))\n",
    "    pessoas.append({\"nome\": nome, \"peso\": peso})\n",
    "\n",
    "mais_pesada = pessoas[0]\n",
    "for pessoa in pessoas:\n",
    "    if pessoa[\"peso\"] > mais_pesada[\"peso\"]:\n",
    "        mais_pesada = pessoa\n",
    "\n",
    "mais_leve = pessoas[0]\n",
    "for pessoa in pessoas:\n",
    "    if pessoa[\"peso\"] < mais_leve[\"peso\"]:\n",
    "        mais_leve = pessoa\n",
    "\n",
    "print(f'A pessoa mais pesada é {mais_pesada[\"nome\"]} com {mais_pesada[\"peso\"]}kg')\n",
    "print(f'A pessoa mais leve é {mais_leve[\"nome\"]} com {mais_leve[\"peso\"]}kg')"
   ]
  },
  {
   "cell_type": "markdown",
   "metadata": {},
   "source": [
    "5. Desenvolva um programa que leia o nome, idade e sexo de n pessoas. No final, mostre:"
   ]
  },
  {
   "cell_type": "markdown",
   "metadata": {},
   "source": [
    "a. A média de idade do grupo."
   ]
  },
  {
   "cell_type": "code",
   "execution_count": 31,
   "metadata": {},
   "outputs": [
    {
     "name": "stdout",
     "output_type": "stream",
     "text": [
      "A média de idade das pessoas é 25.0\n"
     ]
    }
   ],
   "source": [
    "pessoas = []\n",
    "\n",
    "n = int(input(\"Digite o número de pessoas: \"))\n",
    "\n",
    "for i in range(n):\n",
    "    nome = input(f'Digite o nome da {i + 1}ª pessoa: ')\n",
    "    idade = int(input(f'Digite a idade da {i + 1}ª pessoa: '))\n",
    "    sexo = input(f'Digite o sexo da {i + 1}ª pessoa: ')\n",
    "    pessoas.append({\"nome\": nome, \"idade\": idade, \"sexo\": sexo})\n",
    "\n",
    "media_idade = sum([pessoa[\"idade\"] for pessoa in pessoas]) / n\n",
    "print(f'A média de idade das pessoas é {media_idade}')"
   ]
  },
  {
   "cell_type": "markdown",
   "metadata": {},
   "source": [
    "b. Quantas mulheres têm menos de 20 anos."
   ]
  },
  {
   "cell_type": "code",
   "execution_count": 32,
   "metadata": {},
   "outputs": [
    {
     "name": "stdout",
     "output_type": "stream",
     "text": [
      "O número de mulheres com menos de 20 anos é 1\n"
     ]
    }
   ],
   "source": [
    "num_mulheres = 0\n",
    "\n",
    "for pessoa in pessoas:\n",
    "    if pessoa['sexo'] == 'F' and pessoa['idade'] < 20:\n",
    "        num_mulheres += 1\n",
    "\n",
    "print(f'O número de mulheres com menos de 20 anos é {num_mulheres}')"
   ]
  }
 ],
 "metadata": {
  "kernelspec": {
   "display_name": "Python 3",
   "language": "python",
   "name": "python3"
  },
  "language_info": {
   "codemirror_mode": {
    "name": "ipython",
    "version": 3
   },
   "file_extension": ".py",
   "mimetype": "text/x-python",
   "name": "python",
   "nbconvert_exporter": "python",
   "pygments_lexer": "ipython3",
   "version": "3.13.0"
  }
 },
 "nbformat": 4,
 "nbformat_minor": 2
}
