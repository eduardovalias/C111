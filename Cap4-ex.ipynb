{
 "cells": [
  {
   "cell_type": "markdown",
   "metadata": {},
   "source": [
    "1. Crie dois NumPy Arrays unidimensionais de tamanho 8: um formado apenas por 1’s e outro formado por números aleatórios entre 0 e 9. Some estes dois NumPy Arrays e guarde o resultado dentro de um terceiro NumPy Array. Por fim, faça o seguinte:\n",
    "\n",
    "a) Se a soma de todos os elementos do Array resultante for >= 40, remodele este NumPy Array para se tornar uma matriz com mais linhas do que colunas. Senão, remodele para que se torne uma matriz com mais colunas do que linhas."
   ]
  },
  {
   "cell_type": "code",
   "execution_count": 22,
   "metadata": {},
   "outputs": [
    {
     "name": "stdout",
     "output_type": "stream",
     "text": [
      "Array aleatório: [3 0 4 6 6 4 0 7]\n",
      "Soma total: 38.0\n",
      "Array remodelado:\n",
      " [[4. 1. 5. 7.]\n",
      " [7. 5. 1. 8.]]\n"
     ]
    }
   ],
   "source": [
    "import numpy as np\n",
    "\n",
    "array1 = np.ones(8)\n",
    "array2 = np.random.randint(0, 10, 8)\n",
    "\n",
    "array3 = array1 + array2\n",
    "\n",
    "soma_total = np.sum(array3)\n",
    "\n",
    "if soma_total >= 40:\n",
    "    array_remodelado = array3.reshape(4, 2)\n",
    "else:\n",
    "    array_remodelado = array3.reshape(2, 4)\n",
    "\n",
    "print(f\"Array aleatório: {array2}\")\n",
    "print(f\"Soma total: {soma_total}\")\n",
    "print(f\"Array remodelado:\\n {array_remodelado}\")"
   ]
  },
  {
   "cell_type": "markdown",
   "metadata": {},
   "source": [
    "2. Crie dois NumPy Arrays unidimensionais: um de números pares de 0 à 51 e outro também de números pares de 100 até 50. Em seguida, os concatene e mostre os resultados ordenados."
   ]
  },
  {
   "cell_type": "code",
   "execution_count": 23,
   "metadata": {},
   "outputs": [
    {
     "name": "stdout",
     "output_type": "stream",
     "text": [
      "Array ordenada: [  0   2   4   6   8  10  12  14  16  18  20  22  24  26  28  30  32  34\n",
      "  36  38  40  42  44  46  48  50  50  52  54  56  58  60  62  64  66  68\n",
      "  70  72  74  76  78  80  82  84  86  88  90  92  94  96  98 100]\n"
     ]
    }
   ],
   "source": [
    "import numpy as np\n",
    "\n",
    "array1 = np.arange(0, 52, 2)\n",
    "array2 = np.arange(100, 48, -2)\n",
    "\n",
    "arr_concat = np.concatenate((array1, array2))\n",
    "\n",
    "arr_ordenado = np.sort(arr_concat)\n",
    "\n",
    "print(f\"Array ordenada: {arr_ordenado}\")"
   ]
  },
  {
   "cell_type": "markdown",
   "metadata": {},
   "source": [
    "3. Mini Campo Minado\n",
    "\n",
    "a) Crie um NumPy Array 2x2 formado apenas por 0’s.\n",
    "\n",
    "b) Em seguida, adicione um número 1 em uma posição aleatória desta matriz.\n",
    "\n",
    "c) Faça uma entrada de dados para solicitar ao usuário que faça uma jogada (selecione uma posição da matriz).\n",
    "\n",
    "I. Se ele selecionar todas as posições em que o número 1 não se encontra, mostre a mensagem:\n",
    "\"Congratulations! You beat the game! :)\"\n",
    "\n",
    "II. Senão, se dentro das 3 primeiras jogadas ele achar o número 1, mostre a mensagem:\n",
    "\"Game Over! :( Try Again!\""
   ]
  },
  {
   "cell_type": "code",
   "execution_count": 43,
   "metadata": {},
   "outputs": [
    {
     "name": "stdout",
     "output_type": "stream",
     "text": [
      "Congratulations! You beat the game! :)\n"
     ]
    }
   ],
   "source": [
    "import numpy as np\n",
    "\n",
    "#a) Array 2x2 de zeros\n",
    "campo = np.zeros((2, 2))\n",
    "\n",
    "#b) Add número 1 em uma posição aleatória\n",
    "linha_mina = np.random.randint(0, 2)\n",
    "coluna_mina = np.random.randint(0, 2)\n",
    "campo[linha_mina, coluna_mina] = 1\n",
    "\n",
    "#c) Usuário informa posição\n",
    "linha = int(input(\"Digite a linha (0 ou 1): \"))\n",
    "coluna = int(input(\"Digite a coluna (0 ou 1): \"))\n",
    "\n",
    "for tentativa in range(1, 4):\n",
    "    if campo[linha, coluna] == 1:\n",
    "        print(f\"Game Over! :( Try Again!\")\n",
    "        break\n",
    "    elif tentativa == 3:\n",
    "        print(\"Congratulations! You beat the game! :)\")\n",
    "    else:\n",
    "        linha = int(input(\"Digite a linha (0 ou 1): \"))\n",
    "        coluna = int(input(\"Digite a coluna (0 ou 1): \"))"
   ]
  },
  {
   "cell_type": "markdown",
   "metadata": {},
   "source": [
    "4. Crie uma matriz de tamanho qualquer. Extraia seu número de linhas e colunas, multiplique-os, e diga se esta matriz poderia se tornar um vetor unidimensional com número par ou ímpar de elementos."
   ]
  },
  {
   "cell_type": "code",
   "execution_count": 44,
   "metadata": {},
   "outputs": [
    {
     "name": "stdout",
     "output_type": "stream",
     "text": [
      "A matriz possui 12 elementos, que é um número par.\n"
     ]
    }
   ],
   "source": [
    "import numpy as np\n",
    "\n",
    "matriz = np.array([[1, 2, 3, 4],\n",
    "                   [5, 6, 7, 8],\n",
    "                   [9, 10, 11, 12]])\n",
    "\n",
    "num_linhas, num_colunas = matriz.shape\n",
    "total_elementos = num_linhas * num_colunas\n",
    "\n",
    "if total_elementos % 2 == 0:\n",
    "    print(f\"A matriz possui {total_elementos} elementos, que é um número par.\")\n",
    "else:\n",
    "    print(f\"A matriz possui {total_elementos} elementos, que é um número ímpar.\")"
   ]
  },
  {
   "cell_type": "markdown",
   "metadata": {},
   "source": [
    "5. Crie uma matriz de tamanho 4x4 formada por números aleatórios inteiros entre 1 e 50 (use seed = 10 antes):\n",
    "\n",
    "a) Mostre o resultado da média de cada linha e cada coluna da matriz gerada.\n",
    "\n",
    "b) Apresente o maior valor das médias das linhas e também das colunas.\n",
    "\n",
    "c) Mostre a quantidade de aparições de cada um dos números gerados na matriz. Em seguida, mostre apenas os números que aparecem 2 vezes."
   ]
  },
  {
   "cell_type": "code",
   "execution_count": 45,
   "metadata": {},
   "outputs": [
    {
     "name": "stdout",
     "output_type": "stream",
     "text": [
      "\n",
      "Média de cada linha:\n",
      "[16.   33.75 34.5  23.75]\n",
      "\n",
      "Média de cada coluna:\n",
      "[29.75 24.25 33.75 20.25]\n",
      "\n",
      "Maior média entre as linhas: 34.5\n",
      "Maior média entre as colunas: 33.75\n",
      "\n",
      "Frequência de cada número na matriz:\n",
      "{np.int32(1): np.int64(2), np.int32(9): np.int64(1), np.int32(10): np.int64(2), np.int32(16): np.int64(1), np.int32(26): np.int64(1), np.int32(29): np.int64(1), np.int32(30): np.int64(2), np.int32(37): np.int64(1), np.int32(41): np.int64(1), np.int32(43): np.int64(1), np.int32(49): np.int64(1), np.int32(50): np.int64(2)}\n",
      "\n",
      "Números que aparecem exatamente 2 vezes:\n",
      "[np.int32(1), np.int32(10), np.int32(30), np.int32(50)]\n"
     ]
    }
   ],
   "source": [
    "import numpy as np\n",
    "\n",
    "np.random.seed(10)\n",
    "matriz = np.random.randint(1, 51, size=(4, 4))\n",
    "\n",
    "# a) Cálculo da média de cada linha e de cada coluna\n",
    "medias_linhas = np.mean(matriz, axis=1)\n",
    "medias_colunas = np.mean(matriz, axis=0)\n",
    "print(\"\\nMédia de cada linha:\")\n",
    "print(medias_linhas)\n",
    "print(\"\\nMédia de cada coluna:\")\n",
    "print(medias_colunas)\n",
    "\n",
    "# b) Maior valor das médias das linhas e das colunas\n",
    "max_media_linha = np.max(medias_linhas)\n",
    "max_media_coluna = np.max(medias_colunas)\n",
    "print(\"\\nMaior média entre as linhas:\", max_media_linha)\n",
    "print(\"Maior média entre as colunas:\", max_media_coluna)\n",
    "\n",
    "# c) Quantidade de aparições de cada número na matriz\n",
    "numeros, contagens = np.unique(matriz, return_counts=True)\n",
    "frequencia = dict(zip(numeros, contagens))\n",
    "print(\"\\nFrequência de cada número na matriz:\")\n",
    "print(frequencia)\n",
    "\n",
    "# Exibir apenas os números que aparecem exatamente 2 vezes\n",
    "numeros_2_vezes = [num for num, freq in frequencia.items() if freq == 2]\n",
    "print(\"\\nNúmeros que aparecem exatamente 2 vezes:\")\n",
    "print(numeros_2_vezes)"
   ]
  }
 ],
 "metadata": {
  "kernelspec": {
   "display_name": "Python 3",
   "language": "python",
   "name": "python3"
  },
  "language_info": {
   "codemirror_mode": {
    "name": "ipython",
    "version": 3
   },
   "file_extension": ".py",
   "mimetype": "text/x-python",
   "name": "python",
   "nbconvert_exporter": "python",
   "pygments_lexer": "ipython3",
   "version": "3.13.0"
  }
 },
 "nbformat": 4,
 "nbformat_minor": 2
}
